{
 "cells": [
  {
   "cell_type": "code",
   "execution_count": null,
   "id": "40aa645c",
   "metadata": {},
   "outputs": [],
   "source": [
    "import json\n",
    "\n",
    "from stringMatcher import StringMatcher\n",
    "from stringMatcher import levenshtein_ratio_and_distance\n",
    "from time import time\n",
    "\n"
   ]
  },
  {
   "cell_type": "markdown",
   "id": "f2b73b4b",
   "metadata": {},
   "source": [
    "# Load the database into the memory"
   ]
  },
  {
   "cell_type": "code",
   "execution_count": 11,
   "id": "a58e7a2c",
   "metadata": {},
   "outputs": [],
   "source": [
    "data = json.load(open(\"dataStore/dataevent.json\", \"rb\"))"
   ]
  },
  {
   "cell_type": "markdown",
   "id": "797f45fe",
   "metadata": {},
   "source": [
    "# Load the global secondary index in the memory "
   ]
  },
  {
   "cell_type": "code",
   "execution_count": 14,
   "id": "d12761fd",
   "metadata": {},
   "outputs": [],
   "source": [
    "GIS = json.load(open(\"dataStore/datanyweather.json\", \"rb\"))"
   ]
  },
  {
   "cell_type": "code",
   "execution_count": 1,
   "id": "d718b0ae",
   "metadata": {},
   "outputs": [],
   "source": [
    "def getClosestMatch(queryString):\n",
    "    tic                  = time()\n",
    "    \n",
    "    matchRatios          = [levenshtein_ratio_and_distance(queryString, KEY) for KEY, _ in GIS.items()]\n",
    "    bestMatchRatio       = max(matchRatios)\n",
    "\n",
    "    if (bestMatchRatio < 0.5):\n",
    "        return {\n",
    "            \"response code\" : 404,\n",
    "            \"search time\"   : f\"{time()-tic} seconds\",\n",
    "            \"message\"       : \"error\",\n",
    "            \"response body\" : \"no match found\"\n",
    "        }\n",
    "    \n",
    "    \n",
    "    bestMatchRatio_index = matchRatios.index(bestMatchRatio)\n",
    "\n",
    "    bestMatch_eventdate = list(GIS)[bestMatchRatio_index]\n",
    "    bestMatch_eventmaxtemp    = GIS[bestMatch_eventdate]\n",
    "\n",
    "\n",
    "    eventInfo            = data[str(bestMatch_eventdate)]\n",
    "    \n",
    "    \n",
    "    toc                  = time()\n",
    "\n",
    "    eventInfo[\"maxtemp\"] = bestMatch_eventmaxtemp\n",
    "    responseModel = {\n",
    "        \"response code\" : 200,\n",
    "        \"search time\"   : f\"{toc-tic} seconds\",\n",
    "        \"message\"       : \"success\",\n",
    "        \"response body\" : eventInfo\n",
    "    }\n",
    "    \n",
    "    return responseModel"
   ]
  },
  {
   "cell_type": "code",
   "execution_count": 2,
   "id": "d6e64176",
   "metadata": {},
   "outputs": [],
   "source": [
    "def request(eventToSearch=\"\"):\n",
    "    eventToSearch = str(eventToSearch)\n",
    "    if(eventToSearch.replace(\" \", \"\").strip() == \"\"):\n",
    "        return f\"Invalid Movie Name\"\n",
    "    \n",
    "    response = getClosestMatch(queryString = eventToSearch)\n",
    "\n",
    "    if response[\"response code\"] == 404:\n",
    "        return f\"ERROR: No records found\"\n",
    "    \n",
    "    nyweather = response[\"response body\"][\"date\"]\n",
    "    weather2    = response[\"response body\"][\"date\"]\n",
    "\n",
    "    for weather in nyweather:\n",
    "        try    : tags_by_a_single_user_to_a_single_event = \", \".join([tag for tag in tags if nyweather[\"date\"] == weather2[\"date\"]]) # Please don't mind the long veriable name :-)\n",
    "        except : tags_by_a_single_user_to_a_single_event = \"\"\n",
    "        break\n",
    "    table.add_row([nyweather[\"date\"], nyweather[\"date\"], \", \".join(tags_by_a_single_user_to_a_single_event), nyweather[\"date\"]])\n",
    "    data_to_print = f\"\\\n",
    "    date          : {response['response body']['date']}\\n\\\n",
    "    maxtemp          : {response['response body']['maxtemp']}\\n\\\n",
    "    User nyweather   : ---------------------------\\n\\\n",
    "    \"\n",
    "    print(data_to_print)\n",
    "    print(table)"
   ]
  },
  {
   "cell_type": "code",
   "execution_count": null,
   "id": "5e728e6a",
   "metadata": {},
   "outputs": [],
   "source": [
    "request(eventToSearch=\"city\")"
   ]
  }
 ],
 "metadata": {
  "kernelspec": {
   "display_name": "Python 3",
   "language": "python",
   "name": "python3"
  },
  "language_info": {
   "codemirror_mode": {
    "name": "ipython",
    "version": 3
   },
   "file_extension": ".py",
   "mimetype": "text/x-python",
   "name": "python",
   "nbconvert_exporter": "python",
   "pygments_lexer": "ipython3",
   "version": "3.8.8"
  }
 },
 "nbformat": 4,
 "nbformat_minor": 5
}
