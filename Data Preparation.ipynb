{
 "cells": [
  {
   "cell_type": "markdown",
   "id": "e33826b2",
   "metadata": {},
   "source": [
    "# Data Engineering\n",
    "The following datasets are:\n",
    "\n",
    "event.csv\n",
    "\n",
    "nyweather.csv\n",
    "\n",
    "weather2.csv"
   ]
  },
  {
   "cell_type": "code",
   "execution_count": 8,
   "id": "21f9a1a4",
   "metadata": {},
   "outputs": [],
   "source": [
    "import pandas as pd\n",
    "from collections import defaultdict\n",
    "from os import getcwd"
   ]
  },
  {
   "cell_type": "markdown",
   "id": "acdf3806",
   "metadata": {},
   "source": [
    "# Define Paths to data files."
   ]
  },
  {
   "cell_type": "code",
   "execution_count": 9,
   "id": "024c5109",
   "metadata": {},
   "outputs": [],
   "source": [
    "PATH_event   = f\"{getcwd()}/datastore/event.csv\"\n",
    "PATH_nyweather  = f\"{getcwd()}/datastore/nyweather.csv\"\n",
    "PATH_weather2 = f\"{getcwd()}/datastore/weather2.csv\""
   ]
  },
  {
   "cell_type": "code",
   "execution_count": 29,
   "id": "99b3ff02",
   "metadata": {},
   "outputs": [
    {
     "name": "stdout",
     "output_type": "stream",
     "text": [
      "COLUMNS : ['date', 'maxtemp', 'mintemp', 'event']\n"
     ]
    }
   ],
   "source": [
    "\"\"\"\n",
    "    Read data from event.csv\n",
    "\"\"\"\n",
    "df_event            = pd.read_csv(PATH_event)\n",
    "event_table_columns = df_event.columns.tolist()\n",
    "print(f\"COLUMNS : {event_table_columns}\")"
   ]
  },
  {
   "cell_type": "code",
   "execution_count": 11,
   "id": "94cc3c35",
   "metadata": {},
   "outputs": [
    {
     "name": "stdout",
     "output_type": "stream",
     "text": [
      "COLUMNS : ['date', 'maximum temperature', 'minimum temperature', 'average temperature', 'precipitation', 'snow fall', 'snow depth']\n"
     ]
    }
   ],
   "source": [
    "\"\"\"\n",
    "    Read data from nyweather.csv\n",
    "\"\"\"\n",
    "df_nyweather            = pd.read_csv(PATH_nyweather)\n",
    "nyweather_table_columns = df_nyweather.columns.tolist()\n",
    "print(f\"COLUMNS : {nyweather_table_columns}\")"
   ]
  },
  {
   "cell_type": "code",
   "execution_count": 21,
   "id": "a7858bfd",
   "metadata": {},
   "outputs": [
    {
     "name": "stdout",
     "output_type": "stream",
     "text": [
      "COLUMNS : ['date', 'city', 'temp', 'humidity']\n"
     ]
    }
   ],
   "source": [
    "\"\"\"\n",
    "    Read data from weather2.csv\n",
    "\"\"\"\n",
    "df_weather2            = pd.read_csv(PATH_weather2)\n",
    "weather2_table_columns = df_weather2.columns.tolist()\n",
    "print(f\"COLUMNS : {weather2_table_columns}\")\n"
   ]
  },
  {
   "cell_type": "code",
   "execution_count": 23,
   "id": "625c8704",
   "metadata": {},
   "outputs": [
    {
     "name": "stdout",
     "output_type": "stream",
     "text": [
      "It is True  that the column 'date' has unique values for all entries in event dataframe.\n",
      "It is True  that the column 'date' has unique values for all entries in nyweather dataframe.\n",
      "It is False that the column 'date'  has unique values for all entries in weather2 dataframe.\n"
     ]
    }
   ],
   "source": [
    "print(f\"It is {pd.Series(df_event['date']).is_unique}  that the column 'date' has unique values for all entries in event dataframe.\")\n",
    "print(f\"It is {pd.Series(df_nyweather['date']).is_unique}  that the column 'date' has unique values for all entries in nyweather dataframe.\")\n",
    "print(f\"It is {pd.Series(df_weather2['date']).is_unique} that the column 'date'  has unique values for all entries in weather2 dataframe.\")\n",
    "\n",
    "\n",
    "df_event_sorted = df_event.sort_values(by=['date'])\n",
    "\n",
    "df_nyweather_sorted  = df_nyweather.sort_values(by=['date'])\n",
    "\n",
    "df_weather2_sorted  = df_weather2.sort_values(by=['date'])\n"
   ]
  },
  {
   "cell_type": "code",
   "execution_count": 24,
   "id": "894c4234",
   "metadata": {},
   "outputs": [],
   "source": [
    "#from event data frame\n",
    "eventdate    = df_event_sorted[\"date\"].tolist()\n",
    "eventmaxtemp = df_event_sorted[\"maxtemp\"].tolist()\n",
    "eventmintemp = df_event_sorted[\"mintemp\"].tolist()\n",
    "# from NY weather data frame\n",
    "snowfall = df_nyweather_sorted[\"snow fall\"].tolist()\n",
    "snowdepth = df_nyweather_sorted[\"snow depth\"].tolist()\n",
    "# from weather2 data frame\n",
    "city  = df_weather2_sorted[\"city\"].tolist()\n",
    "temp  = df_weather2_sorted[\"temp\"].tolist()"
   ]
  },
  {
   "cell_type": "code",
   "execution_count": 25,
   "id": "90557a0e",
   "metadata": {},
   "outputs": [],
   "source": [
    "eventDict             = {}\n",
    "global_secondaryIndex = {}\n",
    "for idx, date in enumerate(eventdate):\n",
    "    eventDict[date] = {\n",
    "        \"maxtemp\" : eventmaxtemp[idx],\n",
    "        \"nyweather\" : {\n",
    "            \"snow fall\" : snowfall[idx], \n",
    "            \"snow depth\" : snowdepth[idx]\n",
    "        }\n",
    "    }\n",
    "    \n",
    "    global_secondaryIndex[eventmaxtemp[idx]] = eventdate"
   ]
  },
  {
   "cell_type": "code",
   "execution_count": 28,
   "id": "38ac8ee8",
   "metadata": {},
   "outputs": [
    {
     "name": "stdout",
     "output_type": "stream",
     "text": [
      "[INFO] Writing event Data into the disk...\n",
      "[INFO] Writing nyweather Data into the disk...\n"
     ]
    }
   ],
   "source": [
    "import json\n",
    "print(\"[INFO] Writing event Data into the disk...\")\n",
    "with open('dataStore/dataevent.json', 'w') as fp:\n",
    "    json.dump(eventDict, fp, sort_keys=True, indent=4)\n",
    "print(\"[INFO] Writing nyweather Data into the disk...\")\n",
    "with open('dataStore/datanyweather.json', 'w') as fp:\n",
    "    json.dump(global_secondaryIndex, fp, sort_keys=True, indent=4)"
   ]
  },
  {
   "cell_type": "code",
   "execution_count": null,
   "id": "601862fe",
   "metadata": {},
   "outputs": [],
   "source": []
  }
 ],
 "metadata": {
  "kernelspec": {
   "display_name": "Python 3",
   "language": "python",
   "name": "python3"
  },
  "language_info": {
   "codemirror_mode": {
    "name": "ipython",
    "version": 3
   },
   "file_extension": ".py",
   "mimetype": "text/x-python",
   "name": "python",
   "nbconvert_exporter": "python",
   "pygments_lexer": "ipython3",
   "version": "3.8.8"
  }
 },
 "nbformat": 4,
 "nbformat_minor": 5
}
